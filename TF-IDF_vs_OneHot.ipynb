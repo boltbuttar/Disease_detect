lr_tfidf = LogisticRegression(max_iter=1000, multi_class='multinomial', solver='lbfgs')
lr_onehot = LogisticRegression(max_iter=1000, multi_class='multinomial', solver='lbfgs')

lr_tfidf_results = evaluate_model(lr_tfidf, X_tfidf_scaled, y)
lr_onehot_results = evaluate_model(lr_onehot, X_onehot_scaled, y)

lr_results = pd.DataFrame({
    'Logistic Regression (TF-IDF)': lr_tfidf_results,
    'Logistic Regression (One-Hot)': lr_onehot_results
})
display(lr_results)